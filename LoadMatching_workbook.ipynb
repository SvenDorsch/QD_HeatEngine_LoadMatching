{
 "cells": [
  {
   "cell_type": "markdown",
   "metadata": {},
   "source": [
    "# QD heat engine load matching workbook\n",
    "\n",
    "This document can be used to estimate the ideal load resistor for a QD heat engine if the temperatures of the leads and the plateau currents are known. Four important assumptions are made: (1) $\\Gamma_\\mathrm{L} = \\Gamma_\\mathrm{R}$ across the left and right barrier and (2) the charging energy is sufficiently large such that thermoelectric signals for inidividual charge state transitions do not overlap and (3) excited states play no role and (4) lifetime broadening is negligible. the calculations are based on QmeQ and RTD.\n",
    "\n",
    "Various parameters can be set to match an initial calculation of the thermocurrent to 'raw' experimental data. This includes providing plateau currents, specifying the load resistor in the circuit (note: if R = 0 is specified the 10 kOhm input impedance of a Femto current preamp on a 1nA/V gain is used), the lever arm of the gate, a voltage divider on the gate voltage source as well as a voltage offset (at which gate voltage is the resonance found?) and finally specification of the $0 \\to 1$ or $1 \\to 2$ charge state transition. If these parameters are supplied, temperatures can be manually varied to match the experimentally observed signal before calculation of the ideal load resistor for peak power and efficiency."
   ]
  },
  {
   "cell_type": "markdown",
   "metadata": {},
   "source": [
    "First, we have to supply our parameters:"
   ]
  },
  {
   "cell_type": "code",
   "execution_count": 2,
   "metadata": {},
   "outputs": [],
   "source": [
    "TL = 2.2  # Temperature left reservoir in [K]\n",
    "TR = 1.9  # Temperature right reservoir in [K]\n",
    "I_plateau = 5e-9  # Plateau current in [A]\n",
    "\n",
    "## Specify experimental details for better calculation to experiment matching:\n",
    "R_load = 1e6  # Load resistor in [Ohm]\n",
    "ag = 0.0096  # Lever arm of the gate in [eV/V]\n",
    "divider = 1  # Voltage divider on gate voltage source\n",
    "offset = -0.575  # Signal offset in [V]\n",
    "\n",
    "## Specify which charge state transition is to be considered:\n",
    "ChargeStateTransition = 1  # 0: 0->1 transition; 1: 1->2 transition"
   ]
  },
  {
   "cell_type": "markdown",
   "metadata": {},
   "source": [
    "The next cell will estimate the tunnel couplings and plot a first thermoelectric (TE) current curve. This curve can be used to manually tune the parameters supplied above to match the experiment:"
   ]
  },
  {
   "cell_type": "code",
   "execution_count": 3,
   "metadata": {},
   "outputs": [
    {
     "data": {
      "image/png": "[encoded data removed]",
      "text/plain": [
       "<Figure size 360x158.4 with 1 Axes>"
      ]
     },
     "metadata": {
      "needs_background": "light"
     },
     "output_type": "display_data"
    }
   ],
   "source": [
    "import numpy as np\n",
    "import matplotlib.pyplot as plt\n",
    "import qmeq\n",
    "from tqdm import tqdm\n",
    "from scipy.constants import e, k, hbar\n",
    "import scipy.optimize as optimize\n",
    "import warnings\n",
    "import math as math\n",
    "import joblib\n",
    "from joblib import delayed, Parallel\n",
    "\n",
    "\n",
    "##  Define the functions that will be required later on:\n",
    "\n",
    "# Function to calciulate the current through a given qmeq system\n",
    "def current(system, Vbias, Vg, leads=[0,1]): \n",
    "    # Rescale input temperatures\n",
    "    T_L, T_R = TL*1000*k/e, TR*1000*k/e\n",
    "\n",
    "    system.change(mulst={0:-Vbias/2, 1:-Vbias/2, 2:Vbias/2, 3:Vbias/2})\n",
    "    system.change(hsingle={(0,0):-Vg, (1,1):-Vg})\n",
    "\n",
    "    # Solve system & calculate current:  \n",
    "    system.solve()\n",
    "    I, Q = 0, 0\n",
    "    for l in leads:\n",
    "        I += system.current[l]\n",
    "        Q += system.heat_current[l]\n",
    "    return I,Q\n",
    "\n",
    "# Function to generate QmeQ system:\n",
    "def Anderson_model(TL, TR, Gamma, U=10, Vg=0):\n",
    "\n",
    "    nsingle, nleads = 2, 4\n",
    "    \n",
    "    G1, G2 = 1000*(hbar*Gamma)/e, 1000*(hbar*Gamma)/e    \n",
    "    T_L, T_R = TL*1000*k/e, TR*1000*k/e\n",
    "    U = U\n",
    "    \n",
    "    # Assign tunnel couplings dependent on gate voltage:\n",
    "    tl, tr = np.sqrt(G1/2/np.pi), np.sqrt(G2/2/np.pi)\n",
    "        \n",
    "    tlst = {0:T_L, 1:T_L, 2:T_R, 3:T_R}\n",
    "    tleads = {(0,0): tl, (1,1): tl, (2,0): tr, (3,1): tr}\n",
    "    coulomb = {(0,1,1,0): U}\n",
    "    mulst = {0:0, 1:0, 2:0, 3:0}\n",
    "    hsingle = {(0,0):-Vg, (1,1):-Vg}\n",
    "\n",
    "    system = qmeq.Builder(nsingle, hsingle, coulomb,\n",
    "                          nleads, tleads, mulst, tlst, 5e5,\n",
    "                          kerntype='RTD', itype=1)\n",
    "    return system \n",
    "\n",
    "\n",
    "# Define functions for self-consistant solution of I_QD(V_QD )+ V_QD/R = 0\n",
    "def func_root(Vbias, Vg, system, R=1e6):\n",
    "    I = current(system, 1000*Vbias, Vg, leads=[2,3])[0]*1e-12*1.E9*e**2/hbar/(1)  # Current in A\n",
    "    if R == 0:\n",
    "        R_load = 10e3\n",
    "    else:\n",
    "        R_load = R\n",
    "    I += Vbias/R_load\n",
    "    return I\n",
    "\n",
    "def voltage_R(Vg, system, R=1.09e6):\n",
    "    result = optimize.root_scalar(func_root, args=(Vg, system, R),\n",
    "                                  method='brentq', bracket=[-200, 200])\n",
    "    return result.root # Return in V - Careful: other functions expect voltages in mV!\n",
    "\n",
    "\n",
    "def thermocurrent(system, Vg, R=1e6):\n",
    "    Ith = []\n",
    "    Ith_scaled = []\n",
    "    Vth = []\n",
    "    Q = []\n",
    "    for i in Vg:\n",
    "        VR = voltage_R(i, system, R) # in V\n",
    "        Vth.append(VR) # in V\n",
    "        if TR > TL:  # This was the old default:\n",
    "            I_tmp, Q_tmp = current(system, 1000*VR, i, leads=[2,3]) # Take hot lead for Q!\n",
    "            Ith.append(I_tmp)\n",
    "            Ith_scaled.append(I_tmp*1.E9*e**2/hbar/(1))  # Adjust sign dependent on choice of leads\n",
    "            Q.append(Q_tmp)\n",
    "        elif TR <= TL:\n",
    "            I_tmp, Q_tmp = current(system, 1000*VR, i, leads=[0,1]) # Take hot lead for Q!\n",
    "            Ith.append(-I_tmp)\n",
    "            Ith_scaled.append(-I_tmp*1.E9*e**2/hbar/(1))  # Adjust sign dependent on choice of leads\n",
    "            Q.append(-Q_tmp)\n",
    "    return np.asarray(Ith_scaled), np.asarray(Q), np.asarray(Vth), np.asarray(Ith)\n",
    "\n",
    "\n",
    "## Translate peak current to Gamma: (Note: This is an estimate, assuming equal Gammas across both barriers)\n",
    "a = I_plateau/(2*e)\n",
    "b = -I_plateau/(2*e)\n",
    "Gamma = (3*a*b)/(-a+2*b)\n",
    "\n",
    "\n",
    "## Calculate thermocurrent:\n",
    "if ChargeStateTransition == 0:\n",
    "    Eg = np.linspace(-5,5, 250)\n",
    "elif ChargeStateTransition == 1:\n",
    "    Eg =  np.linspace(-5,5, 250)+10  # Shift by charging energy\n",
    "else:\n",
    "    print('Undefined charge state transition. Use default setting 0.')\n",
    "    Eg = np.linspace(-5,5, 250)\n",
    "\n",
    "system = Anderson_model(TL, TR, Gamma)\n",
    "I_th,_,_,_ = thermocurrent(system, Eg, R=R_load)\n",
    "\n",
    "## Plot thermocurrent:\n",
    "plt.figure(figsize=(5,2.2))\n",
    "if ChargeStateTransition == 1:\n",
    "    Vg = np.asarray(Eg)-10\n",
    "else:\n",
    "    Vg = np.asarray(Eg)\n",
    "\n",
    "if ag == 1 and divider == 1:\n",
    "    plt.plot(Vg+offset, I_th)\n",
    "    plt.xlabel(r'e$\\alpha_{\\mathrm{g}}\\mathrm{V_g}$ (meV)')\n",
    "    plt.ylabel(r'I (pA)')\n",
    "else:\n",
    "    plt.plot((Vg/1000)/(divider*ag)+offset, I_th)\n",
    "    plt.xlabel(r'$\\mathrm{V_g}$ (V)')\n",
    "    plt.ylabel(r'I (pA)')\n",
    "plt.show()"
   ]
  },
  {
   "cell_type": "markdown",
   "metadata": {},
   "source": [
    "Finally, the next cell will probe various load resistors and plot the resulting peak efficiency $\\eta$ and power $\\mathrm{P_{max}}$. Note that this can be slow."
   ]
  },
  {
   "cell_type": "code",
   "execution_count": 34,
   "metadata": {},
   "outputs": [
    {
     "name": "stderr",
     "output_type": "stream",
     "text": [
      "100%|██████████| 14/14 [02:22<00:00, 10.20s/it]\n"
     ]
    }
   ],
   "source": [
    "# Define list of load resistors to probe:\n",
    "R_list = [0.1e6, 0.25e6, 0.5e6, 1e6, 2.5e6, 5e6, 7.5e6, 1e7, 2.5e7, 5e7, 1e8, 2.5e8, 5e8, 1e9]\n",
    "\n",
    "# Create new system    \n",
    "system2 = Anderson_model(TL, TR, Gamma)  # Create system\n",
    "\n",
    "# Calculate Carnot efficiency\n",
    "nC = (TR-TL)/TR\n",
    "\n",
    "# loop to calculate and save max efficiency and power:\n",
    "P_max_list = []\n",
    "n_max_list = []\n",
    "for i in tqdm(R_list):\n",
    "    I_tmp, Q_tmp, Vth_tmp, _ = thermocurrent(system2, Eg, R=i)\n",
    "    P_tmp = -1e-12*np.asarray(I_tmp)*np.asarray(Vth_tmp)\n",
    "    P_max_list.append(np.amax(P_tmp))\n",
    "    \n",
    "    n_tmp = ((np.asarray(I_tmp)*1e3*-np.asarray(Vth_tmp))/(np.asarray(Q_tmp)*1.E9*e**2/hbar/(1)))\n",
    "    nnc_tmp = n_tmp/nC\n",
    "    n_max_list.append(np.amax(nnc_tmp))\n"
   ]
  },
  {
   "cell_type": "markdown",
   "metadata": {},
   "source": [
    "Plot the results:"
   ]
  },
  {
   "cell_type": "code",
   "execution_count": 35,
   "metadata": {},
   "outputs": [
    {
     "data": {
      "image/png": "[encoded data removed]",
      "text/plain": [
       "<Figure size 262x120 with 2 Axes>"
      ]
     },
     "metadata": {},
     "output_type": "display_data"
    }
   ],
   "source": [
    "## Plot the results:\n",
    "\n",
    "# Start by setting rc-params to match thesis design language\n",
    "plt.rcdefaults() \n",
    "plt.rc('font', family='sans-serif', serif='Arial') \n",
    "plt.rc('xtick', labelsize=6)\n",
    "plt.rc('ytick', labelsize=6)\n",
    "plt.rc('axes', labelsize=8)\n",
    "plt.rcParams['svg.fonttype'] = 'none'  # for svg: text saved as text.\n",
    "# Figure dimensions:\n",
    "figwidth = 2.62\n",
    "figheight = 1.2\n",
    "\n",
    "# Plot:\n",
    "fig, ax = plt.subplots()\n",
    "ax.set_position([0.2, 0.25, 0.79, 0.73]) # Manually set \"data frame\" size\n",
    "    \n",
    "plt.ylabel(r'P$_{\\mathrm{max}}$ (fW)', labelpad=0)\n",
    "plt.xlabel(r'R$_{\\mathrm{load}}$ (M$\\Omega$)')   \n",
    "\n",
    "ax.plot(np.asarray(R_list)*1e-6, np.asarray(P_max_list)*1e15, 'o', c='black', ms=1.5)  \n",
    "ax2 = ax.twinx()\n",
    "ax2.set_position([0.2, 0.25, 0.79, 0.73]) # Manually set \"data frame\" size\n",
    "ax2.tick_params(axis='y', labelcolor='red')\n",
    "ax2.plot(np.asarray(R_list)*1e-6, n_max_list, 'o', c='red', ms=1.5)\n",
    "ax2.set_ylabel('$\\eta_{\\mathrm{max}}/\\eta_\\mathrm{c}$', color='red')\n",
    "\n",
    "plt.xscale('log')\n",
    "\n",
    "fig.set_size_inches(figwidth, figheight)\n",
    "plt.show()\n",
    "plt.rcdefaults() "
   ]
  },
  {
   "cell_type": "code",
   "execution_count": null,
   "metadata": {},
   "outputs": [],
   "source": []
  }
 ],
 "metadata": {
  "kernelspec": {
   "display_name": "Python 3.9.12 ('base')",
   "language": "python",
   "name": "python3"
  },
  "language_info": {
   "codemirror_mode": {
    "name": "ipython",
    "version": 3
   },
   "file_extension": ".py",
   "mimetype": "text/x-python",
   "name": "python",
   "nbconvert_exporter": "python",
   "pygments_lexer": "ipython3",
   "version": "3.9.12"
  },
  "orig_nbformat": 4,
  "vscode": {
   "interpreter": {
    "hash": "122252f7f549c0769d1b624c65d78edb393ebbc0b475ecff9dabe7afd2e1505b"
   }
  }
 },
 "nbformat": 4,
 "nbformat_minor": 2
}
